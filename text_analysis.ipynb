{
 "cells": [
  {
   "cell_type": "markdown",
   "id": "bcf9daeb-3570-432f-b19b-9c1c54b50cef",
   "metadata": {},
   "source": [
    "# Introduction to Text Analysis in Python"
   ]
  },
  {
   "cell_type": "markdown",
   "id": "76ab56e6-b339-4000-8fd3-865061d64395",
   "metadata": {},
   "source": [
    "## Text analysis - what it is and why we use it"
   ]
  },
  {
   "cell_type": "markdown",
   "id": "f4b80d81-71f2-49d8-b826-4c9309cc4d3f",
   "metadata": {},
   "source": [
    "### Setting up your environment"
   ]
  },
  {
   "cell_type": "markdown",
   "id": "b1141a95-93d7-464e-bf7f-2c5b14f5acfa",
   "metadata": {},
   "source": [
    "### Importing and cleaning text"
   ]
  },
  {
   "cell_type": "markdown",
   "id": "b94722e6-3b8a-43c1-868a-2bc963f0cc00",
   "metadata": {
    "tags": []
   },
   "source": [
    "### Preparing for analysis"
   ]
  },
  {
   "cell_type": "markdown",
   "id": "348cffbf-cab0-4792-b9b3-12b30c924e69",
   "metadata": {
    "jp-MarkdownHeadingCollapsed": true,
    "tags": []
   },
   "source": [
    "#### Tokenizing"
   ]
  },
  {
   "cell_type": "markdown",
   "id": "93c22214-ef43-4e5e-bddc-a55371bcb183",
   "metadata": {
    "jp-MarkdownHeadingCollapsed": true,
    "tags": []
   },
   "source": [
    "#### Stop words"
   ]
  },
  {
   "cell_type": "markdown",
   "id": "b82344c4-01bb-40b4-9b81-a71e1a169b27",
   "metadata": {
    "jp-MarkdownHeadingCollapsed": true,
    "tags": []
   },
   "source": [
    "#### Lemmatization"
   ]
  },
  {
   "cell_type": "markdown",
   "id": "5c3adde1-7e60-4392-94fe-2638b2aa8b86",
   "metadata": {
    "jp-MarkdownHeadingCollapsed": true,
    "tags": []
   },
   "source": [
    "#### Parts of speech"
   ]
  },
  {
   "cell_type": "markdown",
   "id": "a45c1039-afb0-46b4-9bd0-832dc85f6ff8",
   "metadata": {
    "tags": []
   },
   "source": [
    "### Bag of words techniques"
   ]
  },
  {
   "cell_type": "markdown",
   "id": "136511c3-2206-4814-83bb-af519ab30023",
   "metadata": {
    "jp-MarkdownHeadingCollapsed": true,
    "tags": []
   },
   "source": [
    "#### Frequencies"
   ]
  },
  {
   "cell_type": "markdown",
   "id": "c0bd0b11-b842-4f43-8dce-a694ffbcbab2",
   "metadata": {
    "jp-MarkdownHeadingCollapsed": true,
    "tags": []
   },
   "source": [
    "#### N-grams/co-occurrence"
   ]
  },
  {
   "cell_type": "markdown",
   "id": "4e4ed96d-f785-41bc-91be-eaceeb27306a",
   "metadata": {
    "tags": []
   },
   "source": [
    "### Classification"
   ]
  },
  {
   "cell_type": "markdown",
   "id": "f6f59cf0-4b4d-4ad8-a06b-77a9ca670cf7",
   "metadata": {
    "tags": []
   },
   "source": [
    "#### Supervised"
   ]
  },
  {
   "cell_type": "markdown",
   "id": "c200da21-6d19-4b73-8b5f-b7657cb57aab",
   "metadata": {
    "jp-MarkdownHeadingCollapsed": true,
    "tags": []
   },
   "source": [
    "##### Training a model"
   ]
  },
  {
   "cell_type": "markdown",
   "id": "bc12b188-ad5a-4aeb-9ce0-e6bd92829873",
   "metadata": {
    "jp-MarkdownHeadingCollapsed": true,
    "tags": []
   },
   "source": [
    "##### Evaluating results"
   ]
  },
  {
   "cell_type": "markdown",
   "id": "e0584f72-af6f-473b-a479-7483eca68885",
   "metadata": {
    "jp-MarkdownHeadingCollapsed": true,
    "tags": []
   },
   "source": [
    "##### Tweaking/comparing models (prob. Naïve Bayes and SVM)"
   ]
  },
  {
   "cell_type": "markdown",
   "id": "32d04d89-033c-46e8-9432-3f96266fdf38",
   "metadata": {
    "tags": []
   },
   "source": [
    "#### Unsupervised"
   ]
  },
  {
   "cell_type": "markdown",
   "id": "1277c02b-b28d-412d-8693-9b953a9f8b71",
   "metadata": {
    "jp-MarkdownHeadingCollapsed": true,
    "tags": []
   },
   "source": [
    "##### Explain and demonstrate various models (WLDA, clustering, etc.)"
   ]
  }
 ],
 "metadata": {
  "kernelspec": {
   "display_name": "text",
   "language": "python",
   "name": "text"
  },
  "language_info": {
   "codemirror_mode": {
    "name": "ipython",
    "version": 3
   },
   "file_extension": ".py",
   "mimetype": "text/x-python",
   "name": "python",
   "nbconvert_exporter": "python",
   "pygments_lexer": "ipython3",
   "version": "3.8.12"
  }
 },
 "nbformat": 4,
 "nbformat_minor": 5
}
